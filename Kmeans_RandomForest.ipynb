{
  "nbformat": 4,
  "nbformat_minor": 0,
  "metadata": {
    "colab": {
      "provenance": [],
      "toc_visible": true,
      "authorship_tag": "ABX9TyMrFJrnj10UGsrUgZOvKCdb",
      "include_colab_link": true
    },
    "kernelspec": {
      "name": "python3",
      "display_name": "Python 3"
    },
    "language_info": {
      "name": "python"
    }
  },
  "cells": [
    {
      "cell_type": "markdown",
      "metadata": {
        "id": "view-in-github",
        "colab_type": "text"
      },
      "source": [
        "<a href=\"https://colab.research.google.com/github/Vincenzo-Miracula/Zayed-University/blob/main/Kmeans_RandomForest.ipynb\" target=\"_parent\"><img src=\"https://colab.research.google.com/assets/colab-badge.svg\" alt=\"Open In Colab\"/></a>"
      ]
    },
    {
      "cell_type": "markdown",
      "metadata": {
        "id": "bRsz4iK1yU5U"
      },
      "source": [
        "## KMeans Clustering\n",
        "Cluster analysis is a technique used in data mining and machine learning to group similar objects into clusters. K-means clustering is a widely used method for cluster analysis where the aim is to partition a set of objects into K clusters in such a way that the sum of the squared distances between the objects and their assigned cluster mean is minimized."
      ]
    },
    {
      "cell_type": "code",
      "source": [
        "from sklearn import datasets\n",
        "from sklearn.ensemble import RandomForestClassifier\n",
        "from sklearn.preprocessing import MinMaxScaler\n",
        "from sklearn.preprocessing import StandardScaler\n",
        "from sklearn.cluster import KMeans\n",
        "from sklearn.model_selection import train_test_split\n",
        "from sklearn.metrics import accuracy_score,classification_report, confusion_matrix, ConfusionMatrixDisplay\n",
        "from sklearn.metrics import silhouette_score\n",
        "import pandas as pd\n",
        "import matplotlib.pyplot as plt\n",
        "import seaborn as sns\n",
        "import numpy as np"
      ],
      "metadata": {
        "id": "LDMKOMtyk_UQ"
      },
      "execution_count": 2,
      "outputs": []
    },
    {
      "cell_type": "code",
      "source": [
        "home_data = pd.read_csv('https://raw.githubusercontent.com/Vincenzo-Miracula/Zayed-University/main/californiahousing.csv', sep=';', usecols = ['longitude', 'latitude', 'median_house_value'])\n",
        "home_data.head()"
      ],
      "metadata": {
        "id": "EQor8So6hqZW"
      },
      "execution_count": null,
      "outputs": []
    },
    {
      "cell_type": "code",
      "source": [
        "home_data.shape"
      ],
      "metadata": {
        "id": "INmNn2q15CvV"
      },
      "execution_count": null,
      "outputs": []
    },
    {
      "cell_type": "code",
      "source": [
        "home_data.info()"
      ],
      "metadata": {
        "id": "jNFm7uNi5EPB"
      },
      "execution_count": null,
      "outputs": []
    },
    {
      "cell_type": "code",
      "source": [
        "home_data.isna().sum()"
      ],
      "metadata": {
        "id": "ZF3yJ0du5FvA"
      },
      "execution_count": null,
      "outputs": []
    },
    {
      "cell_type": "code",
      "source": [
        "home_data.describe().T"
      ],
      "metadata": {
        "id": "6qDoWe1v5HU2"
      },
      "execution_count": null,
      "outputs": []
    },
    {
      "cell_type": "code",
      "source": [
        "sns.scatterplot(data = home_data, x = 'longitude', y = 'latitude', hue = 'median_house_value', palette='flare')"
      ],
      "metadata": {
        "id": "Xr-8GG195K5U"
      },
      "execution_count": null,
      "outputs": []
    },
    {
      "cell_type": "code",
      "source": [
        "X = home_data[['latitude', 'longitude']]\n",
        "y = home_data[['median_house_value']]"
      ],
      "metadata": {
        "id": "NQw_t-5Hjiya"
      },
      "execution_count": null,
      "outputs": []
    },
    {
      "cell_type": "code",
      "source": [
        "X_train, X_test, y_train, y_test = train_test_split(X, y, test_size=0.33, random_state=0)"
      ],
      "metadata": {
        "id": "sRmMuyoUfgHL"
      },
      "execution_count": null,
      "outputs": []
    },
    {
      "cell_type": "code",
      "source": [
        "minmax = MinMaxScaler()\n",
        "X_train_minmax = minmax.fit_transform(X_train)\n",
        "X_test_minmax = minmax.transform(X_test)"
      ],
      "metadata": {
        "id": "GDNFx-_Ubd-n"
      },
      "execution_count": null,
      "outputs": []
    },
    {
      "cell_type": "code",
      "source": [
        "# List to save inertia values\n",
        "inertia_values = []\n",
        "# Range of k values you wish to explore\n",
        "k_values = range(2, 11)\n",
        "# Calculation of inertia for each value of k\n",
        "for k in k_values:\n",
        "    kmeans = KMeans(n_clusters=k, random_state=42, n_init=10)\n",
        "    kmeans.fit(X_train_minmax)\n",
        "    inertia_values.append(kmeans.inertia_)\n",
        "# Plot of the elbow method\n",
        "plt.plot(k_values, inertia_values, marker='o')\n",
        "plt.xlabel('Number of Cluster (k)')\n",
        "plt.ylabel('Inertia')\n",
        "plt.title('Elbow Method for the Choice of k')\n",
        "plt.xticks(k_values)\n",
        "plt.show()"
      ],
      "metadata": {
        "id": "UuujCU9pnnsI"
      },
      "execution_count": null,
      "outputs": []
    },
    {
      "cell_type": "code",
      "source": [
        "k = 5  # Optimum number of clusters\n",
        "kmeans = KMeans(n_clusters=k, random_state=42)\n",
        "kmeans.fit(X_train_minmax)"
      ],
      "metadata": {
        "id": "NKRqg7X23auf"
      },
      "execution_count": null,
      "outputs": []
    },
    {
      "cell_type": "code",
      "source": [
        "# Get cluster centers and labels\n",
        "centroids = kmeans.cluster_centers_\n",
        "labels = kmeans.labels_"
      ],
      "metadata": {
        "id": "NrH-dAjRj3BR"
      },
      "execution_count": null,
      "outputs": []
    },
    {
      "cell_type": "code",
      "source": [
        "sns.scatterplot(data=X_train_minmax, x='longitude', y='latitude', hue=kmeans.labels_, palette='flare')"
      ],
      "metadata": {
        "id": "YCiHfA36fGbr"
      },
      "execution_count": null,
      "outputs": []
    },
    {
      "cell_type": "code",
      "source": [
        "# Evaluate the clustering using silhouette score\n",
        "silhouette_avg = silhouette_score(X_train_minmax, kmeans.labels_)\n",
        "print(\"Silhouette Score:\", silhouette_avg)\n",
        "\n",
        "# Get the inertia (within-cluster sum of squares)\n",
        "inertia = kmeans.inertia_\n",
        "print(\"Inertia:\", inertia)"
      ],
      "metadata": {
        "id": "ArQzmtKq3uDi"
      },
      "execution_count": null,
      "outputs": []
    },
    {
      "cell_type": "code",
      "source": [
        "y_test['labels'] = kmeans.predict(X_test_minmax)"
      ],
      "metadata": {
        "id": "_V2RSwpxrNxH"
      },
      "execution_count": null,
      "outputs": []
    },
    {
      "cell_type": "code",
      "source": [
        "new_house = [[38.70, -120.49]]"
      ],
      "metadata": {
        "id": "wWCZeiOSraVR"
      },
      "execution_count": null,
      "outputs": []
    },
    {
      "cell_type": "code",
      "source": [
        "kmeans.predict(new_house)"
      ],
      "metadata": {
        "id": "jd-UdVlUu0uk"
      },
      "execution_count": null,
      "outputs": []
    },
    {
      "cell_type": "markdown",
      "metadata": {
        "id": "a2XW__P90icj"
      },
      "source": [
        "## Random Forest\n",
        "Imagine you have a complex problem to solve, and you gather a group of experts from different fields to provide their input. Each expert provides their opinion based on their expertise and experience. Then, the experts would vote to arrive at a final decision.\n",
        "\n",
        "In a random forest classification, multiple decision trees are created using different random subsets of the data and features. Each decision tree is like an expert, providing its opinion on how to classify the data. Predictions are made by calculating the prediction for each decision tree, then taking the most popular result."
      ]
    },
    {
      "cell_type": "code",
      "source": [
        "cars = pd.read_csv('https://raw.githubusercontent.com/Vincenzo-Miracula/Zayed-University/main/car_evaluation.csv')"
      ],
      "metadata": {
        "id": "fdKRD4B56aVp"
      },
      "execution_count": 39,
      "outputs": []
    },
    {
      "cell_type": "code",
      "source": [
        "cars.columns = ['Buying', 'Maint', 'Doors','Persons','LugBoot','Safety','Evaluation']\n",
        "cars.shape"
      ],
      "metadata": {
        "id": "fWc8oDWB-PZ1"
      },
      "execution_count": null,
      "outputs": []
    },
    {
      "cell_type": "code",
      "source": [
        "#Let's check if there are any missing values in our dataset\n",
        "cars.isnull().sum()"
      ],
      "metadata": {
        "id": "dygug-Tk-dTD"
      },
      "execution_count": null,
      "outputs": []
    },
    {
      "cell_type": "code",
      "source": [
        "#We see that there are no missing values in our dataset\n",
        "#Let's take a more analytical look at our dataset\n",
        "cars.describe().T"
      ],
      "metadata": {
        "id": "E2begM5j-dmL"
      },
      "execution_count": null,
      "outputs": []
    },
    {
      "cell_type": "code",
      "source": [
        "#We realize that our data has categorical values\n",
        "cars.columns"
      ],
      "metadata": {
        "id": "CvnmwWbz-e2c"
      },
      "execution_count": null,
      "outputs": []
    },
    {
      "cell_type": "code",
      "source": [
        "#Lets find out the number of cars in each evaluation category\n",
        "cars['Evaluation'].value_counts().sort_index()"
      ],
      "metadata": {
        "id": "jGpFBZSP-iit"
      },
      "execution_count": null,
      "outputs": []
    },
    {
      "cell_type": "code",
      "source": [
        "cars.Doors.replace(('5more'),('5'),inplace=True)\n",
        "cars.Persons.replace(('more'),('5'),inplace=True)"
      ],
      "metadata": {
        "id": "uUX3iNTs-r1k"
      },
      "execution_count": 7,
      "outputs": []
    },
    {
      "cell_type": "code",
      "source": [
        "for col in cars.columns:\n",
        "\n",
        "    print(cars[col].value_counts())"
      ],
      "metadata": {
        "id": "OhIM3tSp-5Lp"
      },
      "execution_count": null,
      "outputs": []
    },
    {
      "cell_type": "code",
      "source": [
        "X = cars.drop(['Evaluation'], axis=1)\n",
        "y = cars['Evaluation']"
      ],
      "metadata": {
        "id": "eGiQ2Uct_FR4"
      },
      "execution_count": 8,
      "outputs": []
    },
    {
      "cell_type": "code",
      "source": [
        "# declare feature vector and target variable\n",
        "#X = df.drop(['Evaluation', 'Doors'], axis=1)\n",
        "#y = df['Evaluation']"
      ],
      "metadata": {
        "id": "kO4BF8bJAwRJ"
      },
      "execution_count": null,
      "outputs": []
    },
    {
      "cell_type": "code",
      "source": [
        "X_train, X_test, y_train, y_test = train_test_split(X, y, test_size = 0.33, random_state = 42)"
      ],
      "metadata": {
        "id": "R0m255ug_RO0"
      },
      "execution_count": 9,
      "outputs": []
    },
    {
      "cell_type": "code",
      "source": [
        "X_train.shape, X_test.shape"
      ],
      "metadata": {
        "id": "nSPauP11_Uxp"
      },
      "execution_count": null,
      "outputs": []
    },
    {
      "cell_type": "code",
      "source": [
        "X_train.dtypes"
      ],
      "metadata": {
        "id": "JY9e05WK_W2H"
      },
      "execution_count": null,
      "outputs": []
    },
    {
      "cell_type": "code",
      "source": [
        "!pip install category_encoders"
      ],
      "metadata": {
        "id": "LcV4opte_in2"
      },
      "execution_count": null,
      "outputs": []
    },
    {
      "cell_type": "code",
      "source": [
        "import category_encoders as ce"
      ],
      "metadata": {
        "id": "n0XNzIol_aHu"
      },
      "execution_count": 11,
      "outputs": []
    },
    {
      "cell_type": "code",
      "source": [
        "encoder = ce.OrdinalEncoder(cols=['Buying', 'Maint', 'Doors', 'Persons', 'LugBoot', 'Safety'])\n",
        "X_train = encoder.fit_transform(X_train)\n",
        "X_test = encoder.transform(X_test)"
      ],
      "metadata": {
        "id": "ceTktAFQ_cSE"
      },
      "execution_count": 12,
      "outputs": []
    },
    {
      "cell_type": "code",
      "source": [
        "# instantiate the classifier\n",
        "clf = RandomForestClassifier(n_estimators=100, random_state=0)\n",
        "# fit the model\n",
        "clf.fit(X_train, y_train)"
      ],
      "metadata": {
        "id": "Yzat7Gkh_wsk"
      },
      "execution_count": null,
      "outputs": []
    },
    {
      "cell_type": "code",
      "source": [
        "# Predict the Test set results\n",
        "y_pred = clf.predict(X_test)"
      ],
      "metadata": {
        "id": "fQWVJmzQ_817"
      },
      "execution_count": 14,
      "outputs": []
    },
    {
      "cell_type": "code",
      "source": [
        "print('Model accuracy score with 10 decision-trees : {0:0.4f}'. format(accuracy_score(y_test, y_pred)))"
      ],
      "metadata": {
        "id": "v8iDOdgs_-nr"
      },
      "execution_count": null,
      "outputs": []
    },
    {
      "cell_type": "code",
      "source": [
        "feature_scores = pd.Series(clf.feature_importances_, index=X_train.columns).sort_values(ascending=False)\n",
        "feature_scores"
      ],
      "metadata": {
        "id": "cEOYHaXJAF4g"
      },
      "execution_count": null,
      "outputs": []
    },
    {
      "cell_type": "code",
      "source": [
        "# Creating a seaborn bar plot\n",
        "sns.barplot(x=feature_scores, y=feature_scores.index)\n",
        "# Add labels to the graph\n",
        "plt.xlabel('Feature Importance Score')\n",
        "plt.ylabel('Features')\n",
        "# Add title to the graph\n",
        "plt.title(\"Visualizing Important Features\")\n",
        "# Visualize the graph\n",
        "plt.show()"
      ],
      "metadata": {
        "id": "sr8IH_xJAfmv"
      },
      "execution_count": null,
      "outputs": []
    },
    {
      "cell_type": "code",
      "source": [
        "new_car = [[1, 2, 3, 3, 1, 2]]"
      ],
      "metadata": {
        "id": "p7cPNd0OCim4"
      },
      "execution_count": 17,
      "outputs": []
    },
    {
      "cell_type": "code",
      "source": [
        "clf.predict(new_car)"
      ],
      "metadata": {
        "id": "zxzJuqucCgT5"
      },
      "execution_count": null,
      "outputs": []
    },
    {
      "cell_type": "code",
      "source": [
        "cm = confusion_matrix(y_test, y_pred)\n",
        "print('Confusion matrix\\n\\n', cm)"
      ],
      "metadata": {
        "id": "OWGxiJ04AmWF"
      },
      "execution_count": null,
      "outputs": []
    },
    {
      "cell_type": "code",
      "source": [
        "ConfusionMatrixDisplay(confusion_matrix=cm).plot()"
      ],
      "metadata": {
        "id": "laQg7f6nBpKG"
      },
      "execution_count": null,
      "outputs": []
    },
    {
      "cell_type": "code",
      "source": [
        "cr = classification_report(y_test, y_pred)\n",
        "print('Classification report\\n\\n', cr)"
      ],
      "metadata": {
        "id": "xTFrFAezApZv"
      },
      "execution_count": null,
      "outputs": []
    },
    {
      "cell_type": "code",
      "source": [
        "from sklearn.tree import export_graphviz\n",
        "import graphviz"
      ],
      "metadata": {
        "id": "TfLFZpMzBKgm"
      },
      "execution_count": null,
      "outputs": []
    },
    {
      "cell_type": "code",
      "source": [
        "for i in range(2):\n",
        "  tree_in_forest = clf.estimators_[0]\n",
        "  dot_data = export_graphviz(tree_in_forest,\n",
        "                feature_names=X_train.columns,\n",
        "                max_depth=5,\n",
        "                filled=True,\n",
        "                rounded=True)\n",
        "  graph = graphviz.Source(dot_data)\n",
        "  graph.render(\"decision_tree\")\n",
        "  display(graph)"
      ],
      "metadata": {
        "id": "7BnV_b_ZDNVP"
      },
      "execution_count": null,
      "outputs": []
    }
  ]
}