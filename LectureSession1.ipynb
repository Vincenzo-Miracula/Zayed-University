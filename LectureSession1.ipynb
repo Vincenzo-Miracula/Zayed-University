{
  "cells": [
    {
      "cell_type": "markdown",
      "metadata": {
        "id": "view-in-github",
        "colab_type": "text"
      },
      "source": [
        "<a href=\"https://colab.research.google.com/github/Vincenzo-Miracula/Zayed-University/blob/main/LectureSession1.ipynb\" target=\"_parent\"><img src=\"https://colab.research.google.com/assets/colab-badge.svg\" alt=\"Open In Colab\"/></a>"
      ]
    },
    {
      "cell_type": "markdown",
      "metadata": {
        "id": "vqv_wAtk0ibM"
      },
      "source": [
        "# Python for Data Analysis\n",
        "\n",
        "### Research Computing Services\n",
        "\n",
        "Instructor: Vincenzo Miracula <br>\n",
        "Website: [Linkedin](https://www.linkedin.com/in/vincenzo-miracula/) <br>\n",
        "Tutorial materials: [http://rcs.bu.edu/examples/python/DataAnalysis](http://rcs.bu.edu/examples/python/DataAnalysis)<br>\n",
        "Contact us: vincenzo.miracula@phd.unict.it <br>"
      ]
    },
    {
      "cell_type": "markdown",
      "metadata": {
        "id": "M3FbA7um0ibR"
      },
      "source": [
        "## Course Content\n",
        "1. Python packages for data scientists\n",
        "2. Data manipulation with Pandas\n",
        "3. Basic data plotting\n",
        "4. Descriptive statistics\n",
        "5. Inferential statistics"
      ]
    },
    {
      "cell_type": "markdown",
      "metadata": {
        "id": "agX7RZgSYeqG"
      },
      "source": [
        "## Python packages for data scientists\n",
        "* [Pandas](https://pandas.pydata.org)\n",
        "    - Adds data structures and tools designed to work with table-like data (similar to Vectors and Data Frames in R)\n",
        "    - Provides tools for data maniuplation: *reshaping*, *merging*, *sorting*, *slicing*, *aggregation*, etc.\n",
        "    - Easily allows to handle missing data\n",
        "* [SciKit-Learn](https://scikit-learn.org/stable/)\n",
        "    - Provides machine learning algorithms: classification, regression, clustering, model validation, etc.\n",
        "    - Built on NumPy, Scipy, and matplotlib\n",
        "   \n",
        "### Visualization\n",
        "\n",
        "* [matplotlib](https://matplotlib.org/)\n",
        "    - Python 2-D plotting library for pulibcation quality figures in a variety of hardcopy formats\n",
        "    - Functionalities similar to MATLAB\n",
        "    - Line plots, scatter plots, bar charts, histograms, pie charts, etc.\n",
        "    - Effort needed to create advanced visualizations\n",
        "* [seaborn](https://seaborn.pydata.org/)\n",
        "    - Based on matplotlib\n",
        "    - Provides a high-level interface for drawing attractive statistical graphs\n",
        "    - Similar to the ggplot2 library in R"
      ]
    },
    {
      "cell_type": "markdown",
      "metadata": {
        "id": "xk7MPI8gYeqH"
      },
      "source": [
        "## Loading Python libraries"
      ]
    },
    {
      "cell_type": "code",
      "execution_count": 2,
      "metadata": {
        "id": "Ea4C8rUR0ibU"
      },
      "outputs": [],
      "source": [
        "import numpy as np\n",
        "import scipy as sp\n",
        "import pandas as pd\n",
        "import matplotlib.pyplot as plt\n",
        "import seaborn as sns"
      ]
    },
    {
      "cell_type": "markdown",
      "metadata": {
        "id": "ca3M2mv_0ibX"
      },
      "source": [
        "## Pandas\n",
        "The main focus of this tutorial is using the Pandas library to manipulate and analyze data.\n",
        "\n",
        "Pandas is a python package that deals mostly with :\n",
        "- **Series**  (1-D homogeneous array)\n",
        "- **DataFrame** (2-D labeled heterogeneous array)\n",
        "- **MultiIndex** (for hierarchical data)\n",
        "- **Xarray** (built on top of Pandas for n-D arrays)\n",
        "\n",
        "The Pandas content of this tutorial will cover:\n",
        "* Creating and understanding Series and DataFrames\n",
        "* Importing/Reading data\n",
        "* Data selection and filtering\n",
        "* Data maniuplation via sorting, grouping, and rearranging\n",
        "* Handling missing data\n",
        "\n",
        "\n",
        "In addition we will also provide information on the following.\n",
        "* Basic data plotting\n",
        "* Descriptive statistics (time permitting)\n",
        "* Inferential statistics (time permitting)"
      ]
    },
    {
      "cell_type": "markdown",
      "metadata": {
        "id": "vYNDrGEL0ibY"
      },
      "source": [
        "### Pandas Series"
      ]
    },
    {
      "cell_type": "markdown",
      "metadata": {
        "id": "hQpjwDv_0ibZ"
      },
      "source": [
        "A Pandas *Series* is a 1-dimensional labeled array containing data of the same type (integers, strings, floating point numbers, Python objects, etc. ). It is a generalized numpy array with an explicit axis called the *index*."
      ]
    },
    {
      "cell_type": "code",
      "execution_count": null,
      "metadata": {
        "id": "iPJvEWlG0ibZ"
      },
      "outputs": [],
      "source": [
        "# Example of creating Pandas series:\n",
        "# Order all S1 together\n",
        "s1 = pd.Series([-3, -1, 1, 3, 5])\n",
        "print(s1)"
      ]
    },
    {
      "cell_type": "code",
      "execution_count": null,
      "metadata": {
        "id": "s3I3__b90ibi"
      },
      "outputs": [],
      "source": [
        "s1[:2] # First 2 elements"
      ]
    },
    {
      "cell_type": "code",
      "execution_count": null,
      "metadata": {
        "id": "4jsIOlUR0ibi"
      },
      "outputs": [],
      "source": [
        "print(s1[[2,1,0]])  # Elements out of order"
      ]
    },
    {
      "cell_type": "code",
      "execution_count": null,
      "metadata": {
        "id": "qGn-aAvx2t9V"
      },
      "outputs": [],
      "source": [
        "type(s1)"
      ]
    },
    {
      "cell_type": "code",
      "execution_count": null,
      "metadata": {
        "id": "ZmlDR_tj0ibd"
      },
      "outputs": [],
      "source": [
        "# Creating Pandas series with index:\n",
        "rng = np.random.default_rng()\n",
        "s2 = pd.Series(rng.normal(size=5), index=['a', 'b', 'c', 'd', 'e'])\n",
        "print(s2)"
      ]
    },
    {
      "cell_type": "code",
      "execution_count": null,
      "metadata": {
        "id": "vX-IUZb30ibf"
      },
      "outputs": [],
      "source": [
        "# Create a Series from dictionary\n",
        "data = {'pi': 3.14159, 'e': 2.71828}  # dictionary\n",
        "print(data)\n",
        "s3 = pd.Series(data)\n",
        "print(s3)"
      ]
    },
    {
      "cell_type": "code",
      "execution_count": null,
      "metadata": {
        "id": "sOHbkXC10ibg"
      },
      "outputs": [],
      "source": [
        "# Create a new series from a dictionary and reorder the elements\n",
        "s4 = pd.Series(data, index=['e', 'pi', 'tau'])\n",
        "print(s4)"
      ]
    },
    {
      "cell_type": "code",
      "execution_count": null,
      "metadata": {
        "id": "skyr2siA0ibj"
      },
      "outputs": [],
      "source": [
        "# Series can be treated as a 1-D array and you can apply functions to them:\n",
        "print(\"Median:\", s4.median())"
      ]
    },
    {
      "cell_type": "markdown",
      "metadata": {
        "id": "3f4HD5E90ibn"
      },
      "source": [
        "### Attributes and Methods:\n",
        "An attribute is a variable stored in the object, e.g., index or size with Series.\n",
        "A method is a function stored in the object, e.g., head() or median() with Series.\n",
        "\n",
        "|  Attribute/Method | Description |\n",
        "|-----|-----|\n",
        "| dtype | data type of values in series |\n",
        "| empty | True if series is empty |\n",
        "| size | number of elements |\n",
        "| values | Returns values as ndarray |\n",
        "| head() | First n elements |\n",
        "| tail() | Last n elements |\n",
        "\n",
        "Execute *dir(s1)* to see all attributes and methods.\n",
        "\n",
        "I recommend using online documentation as well. This will be in a much easier format to read and come with examples.\n",
        "\n"
      ]
    },
    {
      "cell_type": "code",
      "execution_count": null,
      "metadata": {
        "scrolled": true,
        "id": "yu3ID1uTYeqK"
      },
      "outputs": [],
      "source": [
        "# For more information on a particular method or attribute use the help() function\n",
        "help(s4.head())"
      ]
    },
    {
      "cell_type": "code",
      "execution_count": null,
      "metadata": {
        "id": "rOR0LDmMYeqK"
      },
      "outputs": [],
      "source": [
        "# You can also add a question mark to get help information\n",
        "s4.head?"
      ]
    },
    {
      "cell_type": "code",
      "execution_count": null,
      "metadata": {
        "id": "V0WzNfGFYeqK"
      },
      "outputs": [],
      "source": [
        "s4.index?"
      ]
    },
    {
      "cell_type": "markdown",
      "metadata": {
        "id": "a1-H_0ObYeqK"
      },
      "source": [
        "One final way to get help is to press shift-tab when you are in the parentheses of a method or after an attribute. Try this in the exercise below."
      ]
    },
    {
      "cell_type": "markdown",
      "metadata": {
        "id": "FXjjnBOj0ibn"
      },
      "source": [
        "### Exercise - Create your own Series"
      ]
    },
    {
      "cell_type": "code",
      "execution_count": null,
      "metadata": {
        "id": "RUmWlc790ibn"
      },
      "outputs": [],
      "source": [
        "# Create a series with 10 elements containing both positive and negative integers\n",
        "# Examine the series with the head() method\n",
        "# Create a new series from the originally created series with only negative numbers\n",
        "# <your code goes here >\n",
        "# mySeries = pd.Series(  ...  )"
      ]
    },
    {
      "cell_type": "markdown",
      "metadata": {
        "id": "PQprwXx40ibo"
      },
      "source": [
        "### Pandas DataFrames"
      ]
    },
    {
      "cell_type": "markdown",
      "metadata": {
        "id": "ZYRivqyM0ibo"
      },
      "source": [
        "A Pandas *DataFrame* is a 2-dimensional, size-mutable, heterogeneous tabular data structure with labeled rows and columns. You can think of it as a dictionary-like container to store Python Series objects."
      ]
    },
    {
      "cell_type": "code",
      "execution_count": null,
      "metadata": {
        "id": "vWXR_GKo0ibo"
      },
      "outputs": [],
      "source": [
        "df = pd.DataFrame({'Name': pd.Series(['Alice', 'Bob', 'Chris']),\n",
        "                  'Age': pd.Series([21, 25, 23])})\n",
        "print(df)"
      ]
    },
    {
      "cell_type": "code",
      "execution_count": null,
      "metadata": {
        "id": "xt6NqHhS0ibo"
      },
      "outputs": [],
      "source": [
        "df2 = pd.DataFrame(np.array([['Alice','Bob','Chris'], [21, 25, 23]]).T, columns=['Name','Age'])"
      ]
    },
    {
      "cell_type": "code",
      "execution_count": null,
      "metadata": {
        "id": "cZXlWYmn0ibq"
      },
      "outputs": [],
      "source": [
        "# Use the head() method to print the first 5 records in the dataframe (same as with series)\n",
        "df2.head()"
      ]
    },
    {
      "cell_type": "code",
      "execution_count": null,
      "metadata": {
        "id": "NHte5SMZ0ibq"
      },
      "outputs": [],
      "source": [
        "# Add a new column to d2:\n",
        "df2['Height'] = pd.Series([5.2, 6.0, 5.6])\n",
        "df2.head()"
      ]
    },
    {
      "cell_type": "code",
      "source": [
        "df2"
      ],
      "metadata": {
        "id": "B-GwvLwfe8Zz"
      },
      "execution_count": null,
      "outputs": []
    },
    {
      "cell_type": "markdown",
      "metadata": {
        "id": "hD2GwDiGYeqL"
      },
      "source": [
        "### Reading data using Pandas\n",
        "You can read CSV (comma separated values) files using Pandas. The command shown below reads a CSV file into the Pandas dataframe df."
      ]
    },
    {
      "cell_type": "code",
      "source": [
        "import pandas as pd"
      ],
      "metadata": {
        "id": "LpMqMvlHhT8v"
      },
      "execution_count": 1,
      "outputs": []
    },
    {
      "cell_type": "code",
      "execution_count": 2,
      "metadata": {
        "id": "Hfwv2wzd0ibq"
      },
      "outputs": [],
      "source": [
        "# Read a csv file into Pandas Dataframe\n",
        "df = pd.read_csv(\"http://rcs.bu.edu/examples/python/DataAnalysis/Salaries.csv\")"
      ]
    },
    {
      "cell_type": "code",
      "execution_count": null,
      "metadata": {
        "id": "86icwTdZ0ibr"
      },
      "outputs": [],
      "source": [
        "# Display the first 10 records\n",
        "df.head(10)"
      ]
    },
    {
      "cell_type": "code",
      "execution_count": null,
      "metadata": {
        "id": "z-lqfY0MiwGP"
      },
      "outputs": [],
      "source": [
        "# Display structure of the data frame\n",
        "df.info()"
      ]
    },
    {
      "cell_type": "markdown",
      "metadata": {
        "id": "EwKBGo5MYeqL"
      },
      "source": [
        "### More details on DataFrame data types\n",
        "\n",
        "|Pandas Type | Native Python Type | Description |\n",
        "|------------|--------------------|-------------|\n",
        "| object | string | The most general dtype. Will be assigned to your column if column has mixed types (numbers and strings).|\n",
        "| int64  | int | Numeric characters. 64 refers to the memory allocated to hold this character. |\n",
        "| float64 | float | Numeric characters with decimals. If a column contains numbers and NaNs (see below), pandas will default to float64, in case your missing value has a decimal. |\n",
        "| datetime64, timedelta\\[ns\\]| N/A (but see the datetime module in Python’s standard library) | Values meant to hold time data. Look into these for time series experiments. |\n",
        "\n",
        "\n",
        "### DataFrame attributes\n",
        "|df.attribute | Description |\n",
        "|-------------|-------------|\n",
        "| dtypes | list the types of the columns |\n",
        "| columns | list the column names |\n",
        "| axes | list the row labels and column names |\n",
        "| ndim | number of dimensions |\n",
        "| size | number of elements |\n",
        "| shape | return a tuple representung the dimensionality |\n",
        "| values | numpy representation of the data |\n",
        "\n",
        "### Dataframe methods\n",
        "|df.method() | Description |\n",
        "|-------------|-------------|\n",
        "| head(\\[n\\]), tail(\\[n\\]) | first/last n rows |\n",
        "| describe() | generate descriptive statistics (for numeric columns only) |\n",
        "| max(), min() | return max/min values for all numeric columns |\n",
        "| mean(), median() | return mean/median values for all numeric columns |\n",
        "| std() | standard deviation |\n",
        "| sample(\\[n\\]) | returns a random sample of n elements from the data frame |\n",
        "| dropna() | drop all the records with missing values |"
      ]
    },
    {
      "cell_type": "markdown",
      "metadata": {
        "id": "v_Gm0ubUmu95"
      },
      "source": [
        "Sometimes the column names in the input file are too long or contain special characters. In such cases we rename them to make it easier to work with these columns."
      ]
    },
    {
      "cell_type": "code",
      "source": [
        "# Let's create a copy of this dataframe with a new column names\n",
        "# If we do not want to create a new data frame, we can add inplace=True argument\n",
        "df_new =df.rename(columns={'sex': 'gender', 'phd': 'yearsAfterPhD', 'service': 'yearsOfService'})\n",
        "df_new.head()"
      ],
      "metadata": {
        "id": "1fcZsg3sfdyu"
      },
      "execution_count": null,
      "outputs": []
    },
    {
      "cell_type": "markdown",
      "metadata": {
        "id": "tj85w0PMttNG"
      },
      "source": [
        "### DataFrame Exploration"
      ]
    },
    {
      "cell_type": "code",
      "execution_count": null,
      "metadata": {
        "id": "pbDGiE0J0ibt"
      },
      "outputs": [],
      "source": [
        "# Identify the type of df_new object\n",
        "type(df_new)"
      ]
    },
    {
      "cell_type": "code",
      "execution_count": null,
      "metadata": {
        "id": "pybC4toq0ibt"
      },
      "outputs": [],
      "source": [
        "# Check the data type of the column \"salary\"\n",
        "# We access columns using the brackets, e.g., df['column_name']\n",
        "df_new['salary'].dtype"
      ]
    },
    {
      "cell_type": "code",
      "execution_count": null,
      "metadata": {
        "id": "L9DSFQ3BYeqP"
      },
      "outputs": [],
      "source": [
        "# If the column name has no spaces, complex symbols, and is not the name of an attribute/method\n",
        "# you can use the syntax df.column_name\n",
        "df_new.salary.dtype"
      ]
    },
    {
      "cell_type": "code",
      "source": [
        "# List the types of all columns\n",
        "df_new.dtypes"
      ],
      "metadata": {
        "id": "YcIrC9CKffQo"
      },
      "execution_count": null,
      "outputs": []
    },
    {
      "cell_type": "code",
      "execution_count": null,
      "metadata": {
        "id": "YFXUSewc0ibu"
      },
      "outputs": [],
      "source": [
        "# List the column names\n",
        "df_new.columns"
      ]
    },
    {
      "cell_type": "code",
      "source": [
        "# List the row labels and the column names\n",
        "df_new.axes"
      ],
      "metadata": {
        "id": "qKD9_VdLfhpo"
      },
      "execution_count": null,
      "outputs": []
    },
    {
      "cell_type": "code",
      "execution_count": null,
      "metadata": {
        "id": "99jPywmg0ibw"
      },
      "outputs": [],
      "source": [
        "# Number of rows and columns\n",
        "df_new.shape"
      ]
    },
    {
      "cell_type": "code",
      "execution_count": null,
      "metadata": {
        "id": "utYUKYjN0ibv"
      },
      "outputs": [],
      "source": [
        "# Total number of elements in the Data Frame (78 x 6)\n",
        "df_new.size"
      ]
    },
    {
      "cell_type": "code",
      "source": [
        "# Output some descriptive statistics for the numeric columns\n",
        "df_new.describe()"
      ],
      "metadata": {
        "id": "FyD64IQcfjrg"
      },
      "execution_count": null,
      "outputs": []
    },
    {
      "cell_type": "code",
      "source": [
        "# Remeber we can use the ? to get help about the function\n",
        "df_new.describe?"
      ],
      "metadata": {
        "id": "1RVv-Pnjfl68"
      },
      "execution_count": null,
      "outputs": []
    },
    {
      "cell_type": "code",
      "source": [
        "# Create a new column using the assign method\n",
        "df_new = df_new.assign(salary_k=lambda x: x.salary/1000.0)\n",
        "df_new.head(10)"
      ],
      "metadata": {
        "id": "hEaFCek-fno3"
      },
      "execution_count": null,
      "outputs": []
    },
    {
      "cell_type": "code",
      "execution_count": null,
      "metadata": {
        "id": "vsyWDUkww3m3"
      },
      "outputs": [],
      "source": [
        "# Check how many unique values are in a column\n",
        "# There is a rank attribute in DataFrame object so we access using df['rank']\n",
        "df_new['rank'].unique()"
      ]
    },
    {
      "cell_type": "code",
      "source": [
        "# Get the frequency table for a categorical or binary column\n",
        "df_new['rank'].value_counts()"
      ],
      "metadata": {
        "id": "zaIA61wefpUK"
      },
      "execution_count": null,
      "outputs": []
    },
    {
      "cell_type": "code",
      "source": [
        "# Get a proportion table\n",
        "df_new['rank'].value_counts()/sum(df['rank'].value_counts())"
      ],
      "metadata": {
        "id": "xMVsxzLZfroG"
      },
      "execution_count": null,
      "outputs": []
    },
    {
      "cell_type": "markdown",
      "metadata": {
        "collapsed": true,
        "id": "KzvZFygO0ibz"
      },
      "source": [
        "### Data slicing and grouping"
      ]
    },
    {
      "cell_type": "code",
      "execution_count": null,
      "metadata": {
        "id": "LE0RknOW0ib0"
      },
      "outputs": [],
      "source": [
        "#Extract a column by name\n",
        "df_new['gender'].head()"
      ]
    },
    {
      "cell_type": "code",
      "execution_count": null,
      "metadata": {
        "id": "6JrIilpE08Be"
      },
      "outputs": [],
      "source": [
        "# Calculate median number of service years\n",
        "df_new['yearsOfService'].median()"
      ]
    },
    {
      "cell_type": "markdown",
      "metadata": {
        "id": "OR761ERr0ib2"
      },
      "source": [
        "### Grouping data"
      ]
    },
    {
      "cell_type": "code",
      "source": [
        "# Group data using rank\n",
        "df_rank = df_new.groupby('rank')\n",
        "df_rank.head()"
      ],
      "metadata": {
        "id": "1HVRZyFef3HG"
      },
      "execution_count": null,
      "outputs": []
    },
    {
      "cell_type": "code",
      "source": [
        "# Calculate mean of all numeric columns for the grouped object\n",
        "df_rank.mean()"
      ],
      "metadata": {
        "id": "2LhIvekVf4vR"
      },
      "execution_count": null,
      "outputs": []
    },
    {
      "cell_type": "code",
      "source": [
        "# Most of the time, the \"grouping\" object is not stored, but is used as a step in getting a summary:\n",
        "df_new.groupby('gender').mean()"
      ],
      "metadata": {
        "id": "4hHazE2-f6ub"
      },
      "execution_count": null,
      "outputs": []
    },
    {
      "cell_type": "code",
      "source": [
        "# Calculate the mean salary for men and women. The following produce Pandas Series (single brackets around salary)\n",
        "df_new.groupby('gender')['salary'].mean()"
      ],
      "metadata": {
        "id": "ACskuJC3f89K"
      },
      "execution_count": null,
      "outputs": []
    },
    {
      "cell_type": "code",
      "source": [
        "# If we use double brackets Pandas will produce a DataFrame\n",
        "df_new.groupby('gender')[['salary']].mean()"
      ],
      "metadata": {
        "id": "-XnI6z3MgAVC"
      },
      "execution_count": null,
      "outputs": []
    },
    {
      "cell_type": "code",
      "source": [
        "# Group using 2 variables - gender and rank:\n",
        "df_new.groupby(['rank','gender'], sort=True)[['salary']].mean()"
      ],
      "metadata": {
        "id": "T5ndUkVWgCA6"
      },
      "execution_count": null,
      "outputs": []
    },
    {
      "cell_type": "markdown",
      "metadata": {
        "id": "5M2fqDoL0ib6"
      },
      "source": [
        "### Filtering"
      ]
    },
    {
      "cell_type": "code",
      "source": [
        "# Select observation with the value in the salary column > 120K\n",
        "df_filter = df_new[df_new.salary > 120000]\n",
        "df_filter.head()"
      ],
      "metadata": {
        "id": "JqBKtkwmgaHy"
      },
      "execution_count": null,
      "outputs": []
    },
    {
      "cell_type": "code",
      "source": [
        "# Select data for female professors\n",
        "df_w = df_new[df_new.gender == 'Female']\n",
        "df_w.head()"
      ],
      "metadata": {
        "id": "xlSGguwXgbyk"
      },
      "execution_count": null,
      "outputs": []
    },
    {
      "cell_type": "markdown",
      "metadata": {
        "id": "6Fir_77Y0ib8"
      },
      "source": [
        "### Slicing a dataframe"
      ]
    },
    {
      "cell_type": "code",
      "execution_count": null,
      "metadata": {
        "id": "W4v86rQi0ib8",
        "scrolled": true
      },
      "outputs": [],
      "source": [
        "# Select column salary\n",
        "salary = df_new['salary']"
      ]
    },
    {
      "cell_type": "code",
      "execution_count": null,
      "metadata": {
        "id": "sugc9L480ib-"
      },
      "outputs": [],
      "source": [
        "# Check data type of the result\n",
        "type(salary)"
      ]
    },
    {
      "cell_type": "code",
      "source": [
        "# Look at the first few elements of the output\n",
        "salary.head()"
      ],
      "metadata": {
        "id": "mL3nX_BZgjKf"
      },
      "execution_count": null,
      "outputs": []
    },
    {
      "cell_type": "code",
      "execution_count": null,
      "metadata": {
        "id": "CKQS3knF0ib_"
      },
      "outputs": [],
      "source": [
        "# Select column salary and make the output to be a data frame\n",
        "df_salary = df_new[['salary']]"
      ]
    },
    {
      "cell_type": "code",
      "execution_count": null,
      "metadata": {
        "id": "gMPqOKc20ib_"
      },
      "outputs": [],
      "source": [
        "# Check the type\n",
        "type(df_salary)"
      ]
    },
    {
      "cell_type": "code",
      "source": [
        "# Select a subset of rows (based on their position):\n",
        "# Note 1: The location of the first row is 0\n",
        "# Note 2: The last value in the range is not included"
      ],
      "metadata": {
        "id": "ZaPqXqT1grhE"
      },
      "execution_count": null,
      "outputs": []
    },
    {
      "cell_type": "code",
      "execution_count": null,
      "metadata": {
        "id": "4BEvyTpr0ib_"
      },
      "outputs": [],
      "source": [
        "# If we want to select both rows and columns we can use method .loc\n",
        "df_new.loc[10:20, ['rank', 'gender','salary']]"
      ]
    },
    {
      "cell_type": "code",
      "source": [
        "# Unlike method .loc, method iloc selects rows (and columns) by absolute position:\n",
        "# iloc = integer location\n",
        "df_filter.iloc[10:20, [0,3,4,5]]"
      ],
      "metadata": {
        "id": "eEBxhR5NhK3-"
      },
      "execution_count": null,
      "outputs": []
    },
    {
      "cell_type": "markdown",
      "metadata": {
        "id": "JGOFyTVm0icN"
      },
      "source": [
        "### Common Aggregation Functions:\n",
        "\n",
        "The following functions are commonly used functions to aggregate data.\n",
        "\n",
        "|Function|Description\n",
        "|-------|--------\n",
        "|min   | minimum\n",
        "|max   | maximum\n",
        "|count   | number of non-null observations\n",
        "|sum   | sum of values\n",
        "|mean  | arithmetic mean of values\n",
        "|median | median\n",
        "|mad | mean absolute deviation\n",
        "|mode | mode\n",
        "|prod   | product of values\n",
        "|std  | standard deviation\n",
        "|var | unbiased variance\n",
        "\n"
      ]
    },
    {
      "cell_type": "markdown",
      "metadata": {
        "id": "sPGu6w9j0icR"
      },
      "source": [
        "## Exploring data using graphics"
      ]
    },
    {
      "cell_type": "markdown",
      "metadata": {
        "id": "s_nMRIekYeqX"
      },
      "source": [
        "### Graphics with the Salaries dataset"
      ]
    },
    {
      "cell_type": "code",
      "source": [
        "# Use matplotlib to draw a histogram of a salary data\n",
        "plt.hist(df_new['salary'],bins=8, density=True)"
      ],
      "metadata": {
        "id": "64ar-nz3iG7Q"
      },
      "execution_count": null,
      "outputs": []
    },
    {
      "cell_type": "code",
      "source": [
        "# Use seaborn package to draw a histogram\n",
        "sns.displot(df_new['salary'])"
      ],
      "metadata": {
        "id": "1obVEHXEiUee"
      },
      "execution_count": null,
      "outputs": []
    },
    {
      "cell_type": "code",
      "source": [
        "# Use regular matplotlib function to display a barplot\n",
        "df_new.groupby(['rank'])['salary'].count().plot(kind='bar')"
      ],
      "metadata": {
        "id": "-BLKz7gHiWtw"
      },
      "execution_count": null,
      "outputs": []
    },
    {
      "cell_type": "code",
      "source": [
        "# Use seaborn package to display a barplot\n",
        "sns.set_style(\"whitegrid\")\n",
        "ax = sns.barplot(x='rank',y ='salary', data=df_new, estimator=len)"
      ],
      "metadata": {
        "id": "lJYoDpthiYcp"
      },
      "execution_count": null,
      "outputs": []
    },
    {
      "cell_type": "code",
      "source": [
        "# Split into 2 groups:\n",
        "ax = sns.barplot(x='rank',y ='salary', hue='gender', data=df_new, estimator=len)"
      ],
      "metadata": {
        "id": "iq_u8cHIiaQB"
      },
      "execution_count": null,
      "outputs": []
    },
    {
      "cell_type": "code",
      "source": [
        "# Violinplot\n",
        "sns.violinplot(x = \"salary\", data=df_new)"
      ],
      "metadata": {
        "id": "qztLWw_Nic4m"
      },
      "execution_count": null,
      "outputs": []
    },
    {
      "cell_type": "code",
      "source": [
        "# Scatterplot in seaborn\n",
        "sns.jointplot(x='yearsOfService', y='salary', data=df_new)"
      ],
      "metadata": {
        "id": "Iz8KoxcWielA"
      },
      "execution_count": null,
      "outputs": []
    },
    {
      "cell_type": "code",
      "source": [
        "# Box plot\n",
        "sns.boxplot(x='rank',y='salary', data=df_new)"
      ],
      "metadata": {
        "id": "czgQPV5GilyS"
      },
      "execution_count": null,
      "outputs": []
    },
    {
      "cell_type": "code",
      "source": [
        "# Side-by-side box plot\n",
        "sns.boxplot(x='rank', y='salary', data=df_new, hue='gender')"
      ],
      "metadata": {
        "id": "5bDe6SNCinFJ"
      },
      "execution_count": null,
      "outputs": []
    },
    {
      "cell_type": "code",
      "source": [
        "# Pairplot\n",
        "sns.pairplot(df_new)"
      ],
      "metadata": {
        "id": "lp001Cy4iqtB"
      },
      "execution_count": null,
      "outputs": []
    },
    {
      "cell_type": "markdown",
      "metadata": {
        "id": "iWKUzQNP0icQ"
      },
      "source": [
        "## Descriptive statistics\n",
        "Statistics that are used to describe data. We have seen methods that calculate descriptive statistics before with the DataFrame describe() method.\n",
        "\n",
        "Descriptive statistics summarize attributes of a sample, such as the min/max values, and the mean (average) of the data. Below is a summary of some additional methods that calculate descriptive statistics."
      ]
    },
    {
      "cell_type": "markdown",
      "metadata": {
        "id": "7qiHcIAJ0icQ"
      },
      "source": [
        "|Function|Description\n",
        "|-------|--------\n",
        "|min   | minimum\n",
        "|max   | maximum\n",
        "|mean  | arithmetic mean of values\n",
        "|median | median\n",
        "|mad | mean absolute deviation\n",
        "|mode | mode\n",
        "|std  | standard deviation\n",
        "|var | unbiased variance\n",
        "|sem | standard error of the mean\n",
        "|skew| sample skewness\n",
        "|kurt|kurtosis\n",
        "|quantile| value at %\n"
      ]
    }
  ],
  "metadata": {
    "colab": {
      "collapsed_sections": [
        "M3FbA7um0ibR",
        "vYNDrGEL0ibY",
        "3f4HD5E90ibn",
        "PQprwXx40ibo",
        "tj85w0PMttNG",
        "KzvZFygO0ibz",
        "5M2fqDoL0ib6",
        "6Fir_77Y0ib8",
        "vzxWbXKF0icA",
        "XZjjbRia0icD",
        "JGOFyTVm0icN",
        "iWKUzQNP0icQ",
        "sPGu6w9j0icR",
        "a2XW__P90icj"
      ],
      "provenance": [],
      "include_colab_link": true
    },
    "kernelspec": {
      "display_name": "Python 3 (ipykernel)",
      "language": "python",
      "name": "python3"
    },
    "language_info": {
      "codemirror_mode": {
        "name": "ipython",
        "version": 3
      },
      "file_extension": ".py",
      "mimetype": "text/x-python",
      "name": "python",
      "nbconvert_exporter": "python",
      "pygments_lexer": "ipython3",
      "version": "3.9.12"
    }
  },
  "nbformat": 4,
  "nbformat_minor": 0
}